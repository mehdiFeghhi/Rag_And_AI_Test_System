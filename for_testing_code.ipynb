{
 "cells": [
  {
   "cell_type": "code",
   "execution_count": null,
   "metadata": {},
   "outputs": [
    {
     "name": "stdout",
     "output_type": "stream",
     "text": [
      "The capital of France is Paris.\n"
     ]
    },
    {
     "name": "stderr",
     "output_type": "stream",
     "text": [
      "/tmp/ipykernel_79559/2817227045.py:42: PydanticDeprecatedSince20: The `dict` method is deprecated; use `model_dump` instead. Deprecated in Pydantic V2.0 to be removed in V3.0. See Pydantic V2 Migration Guide at https://errors.pydantic.dev/2.11/migration/\n",
      "  return response.dict()[\"content\"]\n"
     ]
    }
   ],
   "source": [
    "from langchain_openai import ChatOpenAI  # pip install -U langchain_openai\n",
    "\n",
    "from app_config import API_KEY\n",
    "# Initialize OpenAI with your API key\n",
    "from typing import List\n",
    "# Choose your model here: \"gpt-4\" or \"gpt-4-turbo\"\n",
    "DEFAULT_MODEL = \"gpt-4o-mini\"\n",
    "\n",
    "\n",
    "def generate_chat_response(user_query: str, retrieved_chunks: List[str], model_name: str = DEFAULT_MODEL) -> str:\n",
    "    \"\"\"\n",
    "    Generates a main response using OpenAI's ChatGPT based on the user query and retrieval context.\n",
    "\n",
    "    Args:\n",
    "        user_query (str): The user's query.\n",
    "        retrieved_chunks (List[str]): Contextual chunks to provide to the model.\n",
    "        model_name (str): Which model to use (e.g., \"gpt-4\", \"gpt-4-turbo\").\n",
    "\n",
    "    Returns:\n",
    "        str: The response from ChatGPT.\n",
    "    \"\"\"\n",
    "    system_prompt = (\n",
    "        \"You are an expert AI assistant. Use the provided context to answer the user's query as helpfully and accurately as possible.\"\n",
    "    )\n",
    "\n",
    "    context = \"\\n\\n\".join(retrieved_chunks)\n",
    "\n",
    "    messages = [\n",
    "        {\"role\": \"system\", \"content\": system_prompt},\n",
    "        {\"role\": \"user\", \"content\": f\"Context:\\n{context}\\n\\nQuery: {user_query}\"}\n",
    "    ]\n",
    "\n",
    "\n",
    "\n",
    "    try:\n",
    "        \n",
    "        llm = ChatOpenAI(\n",
    "             model=model_name, base_url=\"https://api.avalai.ir/v1\", api_key=API_KEY)\n",
    "\n",
    "        response = llm.invoke(messages)\n",
    "            \n",
    "        return response.dict()[\"content\"]\n",
    "\n",
    "    except Exception as e:\n",
    "        return f\"[Error generating AI response: {e}]\"\n",
    "\n",
    "if __name__ == \"__main__\":\n",
    "    user_query = \"What is the capital of France?\"\n",
    "    retrieved_chunks = [\"France is a country in Europe.\", \"The capital of France is Paris.\"]\n",
    "    response = generate_chat_response(user_query, retrieved_chunks)\n",
    "    print(response)"
   ]
  },
  {
   "cell_type": "code",
   "execution_count": 3,
   "metadata": {},
   "outputs": [
    {
     "name": "stdout",
     "output_type": "stream",
     "text": [
      "<h1>Hello World</h1>\n",
      "<p>This is <strong>bold</strong>, <em>italic</em>, and <strong><em>both</em></strong>.</p>\n",
      "<div class=\"codehilite\"><pre><span></span><code><span class=\"k\">def</span><span class=\"w\"> </span><span class=\"nf\">foo</span><span class=\"p\">():</span>\n",
      "    <span class=\"k\">return</span> <span class=\"s2\">&quot;bar&quot;</span>\n",
      "</code></pre></div>\n",
      "\n",
      "<ul>\n",
      "<li>Item 1</li>\n",
      "<li>Item 2</li>\n",
      "</ul>\n",
      "<blockquote>\n",
      "<p>A blockquote.</p>\n",
      "</blockquote>\n",
      "<p><a href=\"https://openai.com\">Link to OpenAI</a></p>\n",
      "<class 'str'>\n"
     ]
    }
   ],
   "source": [
    "# First, make sure you have the `markdown` package:\n",
    "#    pip install markdown\n",
    "\n",
    "import markdown\n",
    "\n",
    "def preprocess_md_to_html(md_text: str) -> str:\n",
    "    \"\"\"\n",
    "    Convert a Markdown-like string into HTML.\n",
    "    Uses Python-Markdown under the hood, so you get support for:\n",
    "      - ATX headings (#, ##, …)\n",
    "      - bold (**bold**), italic (*italic*), combined (***both***)\n",
    "      - inline `code` and fenced code blocks\n",
    "      - lists, links, images, blockquotes, etc.\n",
    "    \"\"\"\n",
    "    # You can enable extensions as needed:\n",
    "    extensions = [\n",
    "        \"fenced_code\",      # ```code blocks\n",
    "        \"codehilite\",       # syntax highlighting (needs Pygments)\n",
    "        \"tables\",           # pipe-style tables\n",
    "        \"nl2br\",            # newline -> <br>\n",
    "    ]\n",
    "    html = markdown.markdown(md_text, extensions=extensions)\n",
    "    return html\n",
    "\n",
    "\n",
    "\n",
    "if __name__ == \"__main__\":\n",
    "    sample = \"\"\"\n",
    "# Hello World\n",
    "\n",
    "This is **bold**, *italic*, and ***both***.\n",
    "\n",
    "```python\n",
    "def foo():\n",
    "    return \"bar\"\n",
    "```\n",
    "\n",
    "- Item 1\n",
    "- Item 2\n",
    "\n",
    "> A blockquote.\n",
    "\n",
    "[Link to OpenAI](https://openai.com)\n",
    "\"\"\"\n",
    "html_output = preprocess_md_to_html(sample)\n",
    "\n",
    "# Print to console\n",
    "print(html_output)\n",
    "print(type(html_output))"
   ]
  }
 ],
 "metadata": {
  "kernelspec": {
   "display_name": ".venv",
   "language": "python",
   "name": "python3"
  },
  "language_info": {
   "codemirror_mode": {
    "name": "ipython",
    "version": 3
   },
   "file_extension": ".py",
   "mimetype": "text/x-python",
   "name": "python",
   "nbconvert_exporter": "python",
   "pygments_lexer": "ipython3",
   "version": "3.12.3"
  }
 },
 "nbformat": 4,
 "nbformat_minor": 2
}
